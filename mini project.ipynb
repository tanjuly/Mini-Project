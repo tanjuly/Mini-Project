{
 "cells": [
  {
   "cell_type": "markdown",
   "id": "1868199b",
   "metadata": {},
   "source": [
    "# WANNA PLAY ROCK PAPER SCISSORS?"
   ]
  },
  {
   "cell_type": "code",
   "execution_count": 3,
   "id": "ef4e03b3",
   "metadata": {},
   "outputs": [
    {
     "name": "stdout",
     "output_type": "stream",
     "text": [
      "Choose one (rock, paper, scissors): rock\n",
      "\n",
      "You chose rock, computer chose scissors.\n",
      "\n",
      "Rock smashes scissors! You Win bro! :D\n",
      "Play again? (yes/no): yes\n",
      "Choose one (rock, paper, scissors): paper\n",
      "\n",
      "You chose paper, computer chose rock.\n",
      "\n",
      "Paper covers Rock! You Win bro! :D\n",
      "Play again? (yes/no): no\n"
     ]
    }
   ],
   "source": [
    "import random\n",
    "\n",
    "while True: #Play several games in a row using a while loop\n",
    "    player_action = input(\"Choose one (rock, paper, scissors): \")\n",
    "    possible_outcome=[\"rock\",\"paper\",\"scissors\"]\n",
    "    computer_action=random.choice(possible_outcome)\n",
    "    print(f\"\\nYou chose {player_action}, computer chose {computer_action}.\\n\")\n",
    "    \n",
    "    if player_action==computer_action:\n",
    "        print(f\"Both players selected {player_action}. It's a Tie Guys!\")\n",
    "    elif player_action==\"rock\":\n",
    "        if computer_action==\"scissors\":\n",
    "            print(f\"Rock smashes scissors! You Win bro! :D\")\n",
    "        else:\n",
    "            print(f\"Oops Paper covers rock! You lose! :(\")\n",
    "    elif player_action==\"paper\":\n",
    "        if computer_action==\"rock\":\n",
    "            print(f\"Paper covers Rock! You Win bro! :D\")\n",
    "        else:\n",
    "            print(f\"Oops Scissors cut paper! You lose :(\")\n",
    "    elif player_action==\"scissors\":\n",
    "        if computer_action==\"paper\":\n",
    "            print(f\"Scissors cuts paper! You Win bro! :D\")\n",
    "    else:\n",
    "        print(f\"Oops Rock smashes scissors! You lose! :(\")\n",
    "    play_again=input(\"Play again? (yes/no): \")\n",
    "    if play_again.lower()!=\"yes\":\n",
    "        break"
   ]
  },
  {
   "cell_type": "code",
   "execution_count": null,
   "id": "9f3afed1",
   "metadata": {},
   "outputs": [],
   "source": []
  }
 ],
 "metadata": {
  "kernelspec": {
   "display_name": "Python 3 (ipykernel)",
   "language": "python",
   "name": "python3"
  },
  "language_info": {
   "codemirror_mode": {
    "name": "ipython",
    "version": 3
   },
   "file_extension": ".py",
   "mimetype": "text/x-python",
   "name": "python",
   "nbconvert_exporter": "python",
   "pygments_lexer": "ipython3",
   "version": "3.9.12"
  }
 },
 "nbformat": 4,
 "nbformat_minor": 5
}
